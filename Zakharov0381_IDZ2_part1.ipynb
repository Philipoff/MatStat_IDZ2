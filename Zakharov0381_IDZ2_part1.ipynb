{
 "cells": [
  {
   "cell_type": "markdown",
   "id": "8daed87b",
   "metadata": {},
   "source": [
    "# ИДЗ 2 часть 1\n",
    "# 0381 Захаров Филипп Вариант 4"
   ]
  },
  {
   "cell_type": "code",
   "execution_count": 1,
   "id": "f4d4efd2",
   "metadata": {},
   "outputs": [],
   "source": [
    "import matplotlib.pyplot as plt\n",
    "from collections import Counter\n",
    "import statistics\n",
    "from scipy.stats import skew"
   ]
  },
  {
   "cell_type": "markdown",
   "id": "9723fb63",
   "metadata": {},
   "source": [
    "### 1a - Вариационный ряд"
   ]
  },
  {
   "cell_type": "markdown",
   "id": "3a2c242e",
   "metadata": {},
   "source": [
    "Сортируем таблицу по возрастанию"
   ]
  },
  {
   "cell_type": "code",
   "execution_count": 2,
   "id": "08bd9a5e",
   "metadata": {
    "scrolled": true
   },
   "outputs": [
    {
     "name": "stdout",
     "output_type": "stream",
     "text": [
      "Вариационный ряд:\n",
      "0 0 0 0 0 0 0 0 0 1 1 1 1 1 1 1 1 2 2 2 2 2 2 2 2 2 2 2 2 2 2 2 3 3 3 3 3 3 3 3 3 3 4 4 4 4 4 4 4 4\n",
      "\n"
     ]
    }
   ],
   "source": [
    "data = \"3 2 3 4 2 2 2 0 3 1 0 2 1 3 0 0 0 2 1 4 4 1 2 0 4 2 3 4 3 2 2 1 4 3 2 1 4 2 0 4 2 1 2 3 2 1 0 3 3 0\".split()\n",
    "data = sorted(map(int, data))\n",
    "\n",
    "print(\"Вариационный ряд:\")\n",
    "print(*data)\n",
    "print()"
   ]
  },
  {
   "cell_type": "markdown",
   "id": "1774b2e0",
   "metadata": {},
   "source": [
    "### 1a - Гистограмма частот"
   ]
  },
  {
   "cell_type": "markdown",
   "id": "6033b5ed",
   "metadata": {},
   "source": [
    "Гистограмма зависимости числа в списке от того, как оно часто встречаются."
   ]
  },
  {
   "cell_type": "code",
   "execution_count": 3,
   "id": "ccbbe185",
   "metadata": {
    "scrolled": false
   },
   "outputs": [
    {
     "name": "stdout",
     "output_type": "stream",
     "text": [
      "Частота повторений:\n",
      "{0: 9, 1: 8, 2: 15, 3: 10, 4: 8}\n"
     ]
    },
    {
     "data": {
      "text/plain": [
       "Text(0, 0.5, 'Частота')"
      ]
     },
     "execution_count": 3,
     "metadata": {},
     "output_type": "execute_result"
    },
    {
     "data": {
      "image/png": "[encoded data removed]",
      "text/plain": [
       "<Figure size 640x480 with 1 Axes>"
      ]
     },
     "metadata": {},
     "output_type": "display_data"
    }
   ],
   "source": [
    "frequency = dict(Counter(data))\n",
    "print(\"Частота повторений:\")\n",
    "print(frequency)\n",
    "plt.hist(data, width=0.6)\n",
    "plt.xticks(range(0, 5))\n",
    "plt.xlabel(\"Число\")\n",
    "plt.ylabel(\"Частота\")### 1a - Вариационный ряд"
   ]
  },
  {
   "cell_type": "markdown",
   "id": "efdad9c5",
   "metadata": {},
   "source": [
    "### 1a - Эмпирическая функция распределения"
   ]
  },
  {
   "cell_type": "markdown",
   "id": "f6737393",
   "metadata": {},
   "source": [
    "Эмпирическая функция распределения F(x) показывает для каждого x значение X<x. График немного неправильный, после 4 линия должна быть горизонтальной, т.к. все числа в выборке меньше него."
   ]
  },
  {
   "cell_type": "code",
   "execution_count": 4,
   "id": "6c12a2db",
   "metadata": {},
   "outputs": [
    {
     "name": "stderr",
     "output_type": "stream",
     "text": [
      "C:\\Users\\Filip\\AppData\\Local\\Temp\\ipykernel_17944\\1764165057.py:2: UserWarning: FixedFormatter should only be used together with FixedLocator\n",
      "  ax.set_yticklabels([0, 0.2, 0.4, 0.6, 0.8, 1])\n"
     ]
    },
    {
     "data": {
      "text/plain": [
       "(array([ 9.,  9.,  9.,  9.,  9.,  9.,  9.,  9.,  9.,  9.,  9.,  9., 17.,\n",
       "        17., 17., 17., 17., 17., 17., 17., 17., 17., 17., 17., 17., 32.,\n",
       "        32., 32., 32., 32., 32., 32., 32., 32., 32., 32., 32., 42., 42.,\n",
       "        42., 42., 42., 42., 42., 42., 42., 42., 42., 42., 50.]),\n",
       " array([0.  , 0.08, 0.16, 0.24, 0.32, 0.4 , 0.48, 0.56, 0.64, 0.72, 0.8 ,\n",
       "        0.88, 0.96, 1.04, 1.12, 1.2 , 1.28, 1.36, 1.44, 1.52, 1.6 , 1.68,\n",
       "        1.76, 1.84, 1.92, 2.  , 2.08, 2.16, 2.24, 2.32, 2.4 , 2.48, 2.56,\n",
       "        2.64, 2.72, 2.8 , 2.88, 2.96, 3.04, 3.12, 3.2 , 3.28, 3.36, 3.44,\n",
       "        3.52, 3.6 , 3.68, 3.76, 3.84, 3.92, 4.  ]),\n",
       " [<matplotlib.patches.Polygon at 0x23fff4b6440>])"
      ]
     },
     "execution_count": 4,
     "metadata": {},
     "output_type": "execute_result"
    },
    {
     "data": {
      "image/png": "[encoded data removed]",
      "text/plain": [
       "<Figure size 640x480 with 1 Axes>"
      ]
     },
     "metadata": {},
     "output_type": "display_data"
    }
   ],
   "source": [
    "ax = plt.axes()\n",
    "ax.set_yticklabels([0, 0.2, 0.4, 0.6, 0.8, 1])\n",
    "plt.hist(data, histtype='step', cumulative=True, bins=len(data))\n"
   ]
  },
  {
   "cell_type": "markdown",
   "id": "48b2f80c",
   "metadata": {},
   "source": [
    "### 1b"
   ]
  },
  {
   "cell_type": "markdown",
   "id": "09f25cd8",
   "metadata": {},
   "source": [
    "1. Выборочное среднее - сумма всех значений списка на длину списка."
   ]
  },
  {
   "cell_type": "code",
   "execution_count": 5,
   "id": "7c27661a",
   "metadata": {},
   "outputs": [
    {
     "data": {
      "text/plain": [
       "2.0"
      ]
     },
     "execution_count": 5,
     "metadata": {},
     "output_type": "execute_result"
    }
   ],
   "source": [
    "avg = sum(data) / len(data)\n",
    "avg"
   ]
  },
  {
   "cell_type": "markdown",
   "id": "ee1ae913",
   "metadata": {},
   "source": [
    "2. Дисперсия - среднее значение квадратов всех отклонений от среднего."
   ]
  },
  {
   "cell_type": "code",
   "execution_count": 6,
   "id": "73027cf7",
   "metadata": {},
   "outputs": [
    {
     "data": {
      "text/plain": [
       "1.72"
      ]
     },
     "execution_count": 6,
     "metadata": {},
     "output_type": "execute_result"
    }
   ],
   "source": [
    "n = len(data)\n",
    "disp = sum([(i - avg) ** 2 for i in data]) / n\n",
    "disp"
   ]
  },
  {
   "cell_type": "markdown",
   "id": "a1372459",
   "metadata": {},
   "source": [
    "3. Медиана - число, которое находится в середине набора"
   ]
  },
  {
   "cell_type": "code",
   "execution_count": 7,
   "id": "ece3491d",
   "metadata": {},
   "outputs": [
    {
     "name": "stdout",
     "output_type": "stream",
     "text": [
      "2.0\n"
     ]
    }
   ],
   "source": [
    "print(statistics.median(data))"
   ]
  },
  {
   "cell_type": "markdown",
   "id": "5a409c98",
   "metadata": {},
   "source": [
    "4. Асимметрия - \n",
    "$$\n",
    "\\frac{sum((x_i - \\overline{x})^3)}{n * D^{3/2}}\n",
    "$$"
   ]
  },
  {
   "cell_type": "markdown",
   "id": "b489c477",
   "metadata": {},
   "source": [
    "Первая формула - обычными вычислениями, вторая - с помощью библиотки scipy, чтоб проверить разницу. Надеюсь, она появилась из-за машинной арифметики питона. Во втором задании разница огромная, значит где-то и тут ошибка, без понятия где..."
   ]
  },
  {
   "cell_type": "code",
   "execution_count": 8,
   "id": "8e2a07d6",
   "metadata": {},
   "outputs": [
    {
     "data": {
      "text/plain": [
       "-0.047165658369703295"
      ]
     },
     "execution_count": 8,
     "metadata": {},
     "output_type": "execute_result"
    }
   ],
   "source": [
    "sum([(i - avg) ** 3 for i in data]) / n / (disp ** 3/2)"
   ]
  },
  {
   "cell_type": "code",
   "execution_count": 9,
   "id": "92a9140d",
   "metadata": {},
   "outputs": [
    {
     "data": {
      "text/plain": [
       "-0.054856788693609666"
      ]
     },
     "execution_count": 9,
     "metadata": {},
     "output_type": "execute_result"
    }
   ],
   "source": [
    "skew(data, axis=0, bias=False)"
   ]
  },
  {
   "cell_type": "markdown",
   "id": "a3cd4cfb",
   "metadata": {},
   "source": [
    "5. Коэффициент эксцесса - \n",
    "$$\n",
    "\\frac{sum((x_i - \\overline{x})^4)}{n * D^{2}} - 3\n",
    "$$"
   ]
  },
  {
   "cell_type": "code",
   "execution_count": 10,
   "id": "c9e74669",
   "metadata": {},
   "outputs": [
    {
     "data": {
      "text/plain": [
       "-1.039480800432666"
      ]
     },
     "execution_count": 10,
     "metadata": {},
     "output_type": "execute_result"
    }
   ],
   "source": [
    "sum([(i - avg) ** 4 for i in data]) / n / (disp ** 2) - 3"
   ]
  },
  {
   "cell_type": "markdown",
   "id": "a89dcc2a",
   "metadata": {},
   "source": [
    "6. Вероятность Pr(X ∈ [a, b]). - вероятность того, что случайно выбранный x в выборке находится в границах a и b. "
   ]
  },
  {
   "cell_type": "code",
   "execution_count": 11,
   "id": "cf977299",
   "metadata": {},
   "outputs": [
    {
     "name": "stdout",
     "output_type": "stream",
     "text": [
      "0.5\n"
     ]
    }
   ],
   "source": [
    "def pr(data, a, b):\n",
    "    n = len(data)\n",
    "    count = 0\n",
    "    for i in data:\n",
    "        if (a <= i <= b):\n",
    "            count += 1\n",
    "    return count / n\n",
    "\n",
    "print(round(pr(data, 1.15, 3.13), 5))\n"
   ]
  },
  {
   "cell_type": "markdown",
   "id": "d403e6f1",
   "metadata": {},
   "source": [
    "# Другие задания писал от руки"
   ]
  }
 ],
 "metadata": {
  "kernelspec": {
   "display_name": "Python 3 (ipykernel)",
   "language": "python",
   "name": "python3"
  },
  "language_info": {
   "codemirror_mode": {
    "name": "ipython",
    "version": 3
   },
   "file_extension": ".py",
   "mimetype": "text/x-python",
   "name": "python",
   "nbconvert_exporter": "python",
   "pygments_lexer": "ipython3",
   "version": "3.10.4"
  }
 },
 "nbformat": 4,
 "nbformat_minor": 5
}
